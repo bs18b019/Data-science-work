{
  "nbformat": 4,
  "nbformat_minor": 0,
  "metadata": {
    "colab": {
      "name": "Mobile price range classifier using Nural etwork.ipynb",
      "provenance": [],
      "authorship_tag": "ABX9TyPJMXiE4cKwKtlgEqHnGkkb",
      "include_colab_link": true
    },
    "kernelspec": {
      "name": "python3",
      "display_name": "Python 3"
    },
    "language_info": {
      "name": "python"
    }
  },
  "cells": [
    {
      "cell_type": "markdown",
      "metadata": {
        "id": "view-in-github",
        "colab_type": "text"
      },
      "source": [
        "<a href=\"https://colab.research.google.com/github/bs18b019/Data-science-work/blob/main/Mobile_price_range_classifier_using_Nural_etwork.ipynb\" target=\"_parent\"><img src=\"https://colab.research.google.com/assets/colab-badge.svg\" alt=\"Open In Colab\"/></a>"
      ]
    },
    {
      "cell_type": "code",
      "metadata": {
        "colab": {
          "resources": {
            "http://localhost:8080/nbextensions/google.colab/files.js": {
              "data": "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",
              "ok": true,
              "headers": [
                [
                  "content-type",
                  "application/javascript"
                ]
              ],
              "status": 200,
              "status_text": "OK"
            }
          },
          "base_uri": "https://localhost:8080/",
          "height": 113
        },
        "id": "f_d3YtIme5x-",
        "outputId": "aaecffa1-17be-4272-b71d-09d9a9aa5fda"
      },
      "source": [
        "from google.colab import files\n",
        "uploaded = files.upload()"
      ],
      "execution_count": 2,
      "outputs": [
        {
          "output_type": "display_data",
          "data": {
            "text/html": [
              "\n",
              "     <input type=\"file\" id=\"files-6df29a11-ee5b-4920-ab9f-8f3bab2dca54\" name=\"files[]\" multiple disabled\n",
              "        style=\"border:none\" />\n",
              "     <output id=\"result-6df29a11-ee5b-4920-ab9f-8f3bab2dca54\">\n",
              "      Upload widget is only available when the cell has been executed in the\n",
              "      current browser session. Please rerun this cell to enable.\n",
              "      </output>\n",
              "      <script src=\"/nbextensions/google.colab/files.js\"></script> "
            ],
            "text/plain": [
              "<IPython.core.display.HTML object>"
            ]
          },
          "metadata": {
            "tags": []
          }
        },
        {
          "output_type": "stream",
          "text": [
            "Saving test.csv to test.csv\n",
            "Saving train.csv to train.csv\n"
          ],
          "name": "stdout"
        }
      ]
    },
    {
      "cell_type": "code",
      "metadata": {
        "colab": {
          "base_uri": "https://localhost:8080/",
          "height": 363
        },
        "id": "RiiPR-60gaWO",
        "outputId": "97d79d85-2e54-4bc2-bd62-204c0f25def5"
      },
      "source": [
        "import numpy as np\n",
        "import pandas as pd\n",
        "#dataset import\n",
        "df = pd.read_csv('train.csv')\n",
        "tdf = pd.read_csv('test.csv') #You need to change #directory accordingly\n",
        "df.head(10) #Return 10 rows of data"
      ],
      "execution_count": 7,
      "outputs": [
        {
          "output_type": "execute_result",
          "data": {
            "text/html": [
              "<div>\n",
              "<style scoped>\n",
              "    .dataframe tbody tr th:only-of-type {\n",
              "        vertical-align: middle;\n",
              "    }\n",
              "\n",
              "    .dataframe tbody tr th {\n",
              "        vertical-align: top;\n",
              "    }\n",
              "\n",
              "    .dataframe thead th {\n",
              "        text-align: right;\n",
              "    }\n",
              "</style>\n",
              "<table border=\"1\" class=\"dataframe\">\n",
              "  <thead>\n",
              "    <tr style=\"text-align: right;\">\n",
              "      <th></th>\n",
              "      <th>battery_power</th>\n",
              "      <th>blue</th>\n",
              "      <th>clock_speed</th>\n",
              "      <th>dual_sim</th>\n",
              "      <th>fc</th>\n",
              "      <th>four_g</th>\n",
              "      <th>int_memory</th>\n",
              "      <th>m_dep</th>\n",
              "      <th>mobile_wt</th>\n",
              "      <th>n_cores</th>\n",
              "      <th>pc</th>\n",
              "      <th>px_height</th>\n",
              "      <th>px_width</th>\n",
              "      <th>ram</th>\n",
              "      <th>sc_h</th>\n",
              "      <th>sc_w</th>\n",
              "      <th>talk_time</th>\n",
              "      <th>three_g</th>\n",
              "      <th>touch_screen</th>\n",
              "      <th>wifi</th>\n",
              "      <th>price_range</th>\n",
              "    </tr>\n",
              "  </thead>\n",
              "  <tbody>\n",
              "    <tr>\n",
              "      <th>0</th>\n",
              "      <td>842</td>\n",
              "      <td>0</td>\n",
              "      <td>2.2</td>\n",
              "      <td>0</td>\n",
              "      <td>1</td>\n",
              "      <td>0</td>\n",
              "      <td>7</td>\n",
              "      <td>0.6</td>\n",
              "      <td>188</td>\n",
              "      <td>2</td>\n",
              "      <td>2</td>\n",
              "      <td>20</td>\n",
              "      <td>756</td>\n",
              "      <td>2549</td>\n",
              "      <td>9</td>\n",
              "      <td>7</td>\n",
              "      <td>19</td>\n",
              "      <td>0</td>\n",
              "      <td>0</td>\n",
              "      <td>1</td>\n",
              "      <td>1</td>\n",
              "    </tr>\n",
              "    <tr>\n",
              "      <th>1</th>\n",
              "      <td>1021</td>\n",
              "      <td>1</td>\n",
              "      <td>0.5</td>\n",
              "      <td>1</td>\n",
              "      <td>0</td>\n",
              "      <td>1</td>\n",
              "      <td>53</td>\n",
              "      <td>0.7</td>\n",
              "      <td>136</td>\n",
              "      <td>3</td>\n",
              "      <td>6</td>\n",
              "      <td>905</td>\n",
              "      <td>1988</td>\n",
              "      <td>2631</td>\n",
              "      <td>17</td>\n",
              "      <td>3</td>\n",
              "      <td>7</td>\n",
              "      <td>1</td>\n",
              "      <td>1</td>\n",
              "      <td>0</td>\n",
              "      <td>2</td>\n",
              "    </tr>\n",
              "    <tr>\n",
              "      <th>2</th>\n",
              "      <td>563</td>\n",
              "      <td>1</td>\n",
              "      <td>0.5</td>\n",
              "      <td>1</td>\n",
              "      <td>2</td>\n",
              "      <td>1</td>\n",
              "      <td>41</td>\n",
              "      <td>0.9</td>\n",
              "      <td>145</td>\n",
              "      <td>5</td>\n",
              "      <td>6</td>\n",
              "      <td>1263</td>\n",
              "      <td>1716</td>\n",
              "      <td>2603</td>\n",
              "      <td>11</td>\n",
              "      <td>2</td>\n",
              "      <td>9</td>\n",
              "      <td>1</td>\n",
              "      <td>1</td>\n",
              "      <td>0</td>\n",
              "      <td>2</td>\n",
              "    </tr>\n",
              "    <tr>\n",
              "      <th>3</th>\n",
              "      <td>615</td>\n",
              "      <td>1</td>\n",
              "      <td>2.5</td>\n",
              "      <td>0</td>\n",
              "      <td>0</td>\n",
              "      <td>0</td>\n",
              "      <td>10</td>\n",
              "      <td>0.8</td>\n",
              "      <td>131</td>\n",
              "      <td>6</td>\n",
              "      <td>9</td>\n",
              "      <td>1216</td>\n",
              "      <td>1786</td>\n",
              "      <td>2769</td>\n",
              "      <td>16</td>\n",
              "      <td>8</td>\n",
              "      <td>11</td>\n",
              "      <td>1</td>\n",
              "      <td>0</td>\n",
              "      <td>0</td>\n",
              "      <td>2</td>\n",
              "    </tr>\n",
              "    <tr>\n",
              "      <th>4</th>\n",
              "      <td>1821</td>\n",
              "      <td>1</td>\n",
              "      <td>1.2</td>\n",
              "      <td>0</td>\n",
              "      <td>13</td>\n",
              "      <td>1</td>\n",
              "      <td>44</td>\n",
              "      <td>0.6</td>\n",
              "      <td>141</td>\n",
              "      <td>2</td>\n",
              "      <td>14</td>\n",
              "      <td>1208</td>\n",
              "      <td>1212</td>\n",
              "      <td>1411</td>\n",
              "      <td>8</td>\n",
              "      <td>2</td>\n",
              "      <td>15</td>\n",
              "      <td>1</td>\n",
              "      <td>1</td>\n",
              "      <td>0</td>\n",
              "      <td>1</td>\n",
              "    </tr>\n",
              "    <tr>\n",
              "      <th>5</th>\n",
              "      <td>1859</td>\n",
              "      <td>0</td>\n",
              "      <td>0.5</td>\n",
              "      <td>1</td>\n",
              "      <td>3</td>\n",
              "      <td>0</td>\n",
              "      <td>22</td>\n",
              "      <td>0.7</td>\n",
              "      <td>164</td>\n",
              "      <td>1</td>\n",
              "      <td>7</td>\n",
              "      <td>1004</td>\n",
              "      <td>1654</td>\n",
              "      <td>1067</td>\n",
              "      <td>17</td>\n",
              "      <td>1</td>\n",
              "      <td>10</td>\n",
              "      <td>1</td>\n",
              "      <td>0</td>\n",
              "      <td>0</td>\n",
              "      <td>1</td>\n",
              "    </tr>\n",
              "    <tr>\n",
              "      <th>6</th>\n",
              "      <td>1821</td>\n",
              "      <td>0</td>\n",
              "      <td>1.7</td>\n",
              "      <td>0</td>\n",
              "      <td>4</td>\n",
              "      <td>1</td>\n",
              "      <td>10</td>\n",
              "      <td>0.8</td>\n",
              "      <td>139</td>\n",
              "      <td>8</td>\n",
              "      <td>10</td>\n",
              "      <td>381</td>\n",
              "      <td>1018</td>\n",
              "      <td>3220</td>\n",
              "      <td>13</td>\n",
              "      <td>8</td>\n",
              "      <td>18</td>\n",
              "      <td>1</td>\n",
              "      <td>0</td>\n",
              "      <td>1</td>\n",
              "      <td>3</td>\n",
              "    </tr>\n",
              "    <tr>\n",
              "      <th>7</th>\n",
              "      <td>1954</td>\n",
              "      <td>0</td>\n",
              "      <td>0.5</td>\n",
              "      <td>1</td>\n",
              "      <td>0</td>\n",
              "      <td>0</td>\n",
              "      <td>24</td>\n",
              "      <td>0.8</td>\n",
              "      <td>187</td>\n",
              "      <td>4</td>\n",
              "      <td>0</td>\n",
              "      <td>512</td>\n",
              "      <td>1149</td>\n",
              "      <td>700</td>\n",
              "      <td>16</td>\n",
              "      <td>3</td>\n",
              "      <td>5</td>\n",
              "      <td>1</td>\n",
              "      <td>1</td>\n",
              "      <td>1</td>\n",
              "      <td>0</td>\n",
              "    </tr>\n",
              "    <tr>\n",
              "      <th>8</th>\n",
              "      <td>1445</td>\n",
              "      <td>1</td>\n",
              "      <td>0.5</td>\n",
              "      <td>0</td>\n",
              "      <td>0</td>\n",
              "      <td>0</td>\n",
              "      <td>53</td>\n",
              "      <td>0.7</td>\n",
              "      <td>174</td>\n",
              "      <td>7</td>\n",
              "      <td>14</td>\n",
              "      <td>386</td>\n",
              "      <td>836</td>\n",
              "      <td>1099</td>\n",
              "      <td>17</td>\n",
              "      <td>1</td>\n",
              "      <td>20</td>\n",
              "      <td>1</td>\n",
              "      <td>0</td>\n",
              "      <td>0</td>\n",
              "      <td>0</td>\n",
              "    </tr>\n",
              "    <tr>\n",
              "      <th>9</th>\n",
              "      <td>509</td>\n",
              "      <td>1</td>\n",
              "      <td>0.6</td>\n",
              "      <td>1</td>\n",
              "      <td>2</td>\n",
              "      <td>1</td>\n",
              "      <td>9</td>\n",
              "      <td>0.1</td>\n",
              "      <td>93</td>\n",
              "      <td>5</td>\n",
              "      <td>15</td>\n",
              "      <td>1137</td>\n",
              "      <td>1224</td>\n",
              "      <td>513</td>\n",
              "      <td>19</td>\n",
              "      <td>10</td>\n",
              "      <td>12</td>\n",
              "      <td>1</td>\n",
              "      <td>0</td>\n",
              "      <td>0</td>\n",
              "      <td>0</td>\n",
              "    </tr>\n",
              "  </tbody>\n",
              "</table>\n",
              "</div>"
            ],
            "text/plain": [
              "   battery_power  blue  clock_speed  ...  touch_screen  wifi  price_range\n",
              "0            842     0          2.2  ...             0     1            1\n",
              "1           1021     1          0.5  ...             1     0            2\n",
              "2            563     1          0.5  ...             1     0            2\n",
              "3            615     1          2.5  ...             0     0            2\n",
              "4           1821     1          1.2  ...             1     0            1\n",
              "5           1859     0          0.5  ...             0     0            1\n",
              "6           1821     0          1.7  ...             0     1            3\n",
              "7           1954     0          0.5  ...             1     1            0\n",
              "8           1445     1          0.5  ...             0     0            0\n",
              "9            509     1          0.6  ...             0     0            0\n",
              "\n",
              "[10 rows x 21 columns]"
            ]
          },
          "metadata": {
            "tags": []
          },
          "execution_count": 7
        }
      ]
    },
    {
      "cell_type": "code",
      "metadata": {
        "id": "p0Ob5w_VgN6A"
      },
      "source": [
        "desired_width=500\n",
        "\n",
        "pd.set_option('display.width', desired_width)\n",
        "\n",
        "#np.set_printoption(linewidth=desired_width)\n",
        "#setting the number of columns need to be show \n",
        "pd.set_option('display.max_columns',40)"
      ],
      "execution_count": 8,
      "outputs": []
    },
    {
      "cell_type": "code",
      "metadata": {
        "colab": {
          "base_uri": "https://localhost:8080/",
          "height": 206
        },
        "id": "y4Dxfy7pgZVs",
        "outputId": "7f92a0e9-0666-44ac-c6d2-92b73ba2e0f8"
      },
      "source": [
        "df.head()"
      ],
      "execution_count": 9,
      "outputs": [
        {
          "output_type": "execute_result",
          "data": {
            "text/html": [
              "<div>\n",
              "<style scoped>\n",
              "    .dataframe tbody tr th:only-of-type {\n",
              "        vertical-align: middle;\n",
              "    }\n",
              "\n",
              "    .dataframe tbody tr th {\n",
              "        vertical-align: top;\n",
              "    }\n",
              "\n",
              "    .dataframe thead th {\n",
              "        text-align: right;\n",
              "    }\n",
              "</style>\n",
              "<table border=\"1\" class=\"dataframe\">\n",
              "  <thead>\n",
              "    <tr style=\"text-align: right;\">\n",
              "      <th></th>\n",
              "      <th>battery_power</th>\n",
              "      <th>blue</th>\n",
              "      <th>clock_speed</th>\n",
              "      <th>dual_sim</th>\n",
              "      <th>fc</th>\n",
              "      <th>four_g</th>\n",
              "      <th>int_memory</th>\n",
              "      <th>m_dep</th>\n",
              "      <th>mobile_wt</th>\n",
              "      <th>n_cores</th>\n",
              "      <th>pc</th>\n",
              "      <th>px_height</th>\n",
              "      <th>px_width</th>\n",
              "      <th>ram</th>\n",
              "      <th>sc_h</th>\n",
              "      <th>sc_w</th>\n",
              "      <th>talk_time</th>\n",
              "      <th>three_g</th>\n",
              "      <th>touch_screen</th>\n",
              "      <th>wifi</th>\n",
              "      <th>price_range</th>\n",
              "    </tr>\n",
              "  </thead>\n",
              "  <tbody>\n",
              "    <tr>\n",
              "      <th>0</th>\n",
              "      <td>842</td>\n",
              "      <td>0</td>\n",
              "      <td>2.2</td>\n",
              "      <td>0</td>\n",
              "      <td>1</td>\n",
              "      <td>0</td>\n",
              "      <td>7</td>\n",
              "      <td>0.6</td>\n",
              "      <td>188</td>\n",
              "      <td>2</td>\n",
              "      <td>2</td>\n",
              "      <td>20</td>\n",
              "      <td>756</td>\n",
              "      <td>2549</td>\n",
              "      <td>9</td>\n",
              "      <td>7</td>\n",
              "      <td>19</td>\n",
              "      <td>0</td>\n",
              "      <td>0</td>\n",
              "      <td>1</td>\n",
              "      <td>1</td>\n",
              "    </tr>\n",
              "    <tr>\n",
              "      <th>1</th>\n",
              "      <td>1021</td>\n",
              "      <td>1</td>\n",
              "      <td>0.5</td>\n",
              "      <td>1</td>\n",
              "      <td>0</td>\n",
              "      <td>1</td>\n",
              "      <td>53</td>\n",
              "      <td>0.7</td>\n",
              "      <td>136</td>\n",
              "      <td>3</td>\n",
              "      <td>6</td>\n",
              "      <td>905</td>\n",
              "      <td>1988</td>\n",
              "      <td>2631</td>\n",
              "      <td>17</td>\n",
              "      <td>3</td>\n",
              "      <td>7</td>\n",
              "      <td>1</td>\n",
              "      <td>1</td>\n",
              "      <td>0</td>\n",
              "      <td>2</td>\n",
              "    </tr>\n",
              "    <tr>\n",
              "      <th>2</th>\n",
              "      <td>563</td>\n",
              "      <td>1</td>\n",
              "      <td>0.5</td>\n",
              "      <td>1</td>\n",
              "      <td>2</td>\n",
              "      <td>1</td>\n",
              "      <td>41</td>\n",
              "      <td>0.9</td>\n",
              "      <td>145</td>\n",
              "      <td>5</td>\n",
              "      <td>6</td>\n",
              "      <td>1263</td>\n",
              "      <td>1716</td>\n",
              "      <td>2603</td>\n",
              "      <td>11</td>\n",
              "      <td>2</td>\n",
              "      <td>9</td>\n",
              "      <td>1</td>\n",
              "      <td>1</td>\n",
              "      <td>0</td>\n",
              "      <td>2</td>\n",
              "    </tr>\n",
              "    <tr>\n",
              "      <th>3</th>\n",
              "      <td>615</td>\n",
              "      <td>1</td>\n",
              "      <td>2.5</td>\n",
              "      <td>0</td>\n",
              "      <td>0</td>\n",
              "      <td>0</td>\n",
              "      <td>10</td>\n",
              "      <td>0.8</td>\n",
              "      <td>131</td>\n",
              "      <td>6</td>\n",
              "      <td>9</td>\n",
              "      <td>1216</td>\n",
              "      <td>1786</td>\n",
              "      <td>2769</td>\n",
              "      <td>16</td>\n",
              "      <td>8</td>\n",
              "      <td>11</td>\n",
              "      <td>1</td>\n",
              "      <td>0</td>\n",
              "      <td>0</td>\n",
              "      <td>2</td>\n",
              "    </tr>\n",
              "    <tr>\n",
              "      <th>4</th>\n",
              "      <td>1821</td>\n",
              "      <td>1</td>\n",
              "      <td>1.2</td>\n",
              "      <td>0</td>\n",
              "      <td>13</td>\n",
              "      <td>1</td>\n",
              "      <td>44</td>\n",
              "      <td>0.6</td>\n",
              "      <td>141</td>\n",
              "      <td>2</td>\n",
              "      <td>14</td>\n",
              "      <td>1208</td>\n",
              "      <td>1212</td>\n",
              "      <td>1411</td>\n",
              "      <td>8</td>\n",
              "      <td>2</td>\n",
              "      <td>15</td>\n",
              "      <td>1</td>\n",
              "      <td>1</td>\n",
              "      <td>0</td>\n",
              "      <td>1</td>\n",
              "    </tr>\n",
              "  </tbody>\n",
              "</table>\n",
              "</div>"
            ],
            "text/plain": [
              "   battery_power  blue  clock_speed  dual_sim  fc  four_g  int_memory  m_dep  mobile_wt  n_cores  pc  px_height  px_width   ram  sc_h  sc_w  talk_time  three_g  touch_screen  wifi  price_range\n",
              "0            842     0          2.2         0   1       0           7    0.6        188        2   2         20       756  2549     9     7         19        0             0     1            1\n",
              "1           1021     1          0.5         1   0       1          53    0.7        136        3   6        905      1988  2631    17     3          7        1             1     0            2\n",
              "2            563     1          0.5         1   2       1          41    0.9        145        5   6       1263      1716  2603    11     2          9        1             1     0            2\n",
              "3            615     1          2.5         0   0       0          10    0.8        131        6   9       1216      1786  2769    16     8         11        1             0     0            2\n",
              "4           1821     1          1.2         0  13       1          44    0.6        141        2  14       1208      1212  1411     8     2         15        1             1     0            1"
            ]
          },
          "metadata": {
            "tags": []
          },
          "execution_count": 9
        }
      ]
    },
    {
      "cell_type": "code",
      "metadata": {
        "colab": {
          "base_uri": "https://localhost:8080/"
        },
        "id": "_cw108lEmQF2",
        "outputId": "76878717-f9f8-4c81-b497-df340b5f5ea6"
      },
      "source": [
        "# Lets see what are all the classess present in our data frame\n",
        "print(df['price_range'].unique())"
      ],
      "execution_count": 23,
      "outputs": [
        {
          "output_type": "stream",
          "text": [
            "[1 2 3 0]\n"
          ],
          "name": "stdout"
        }
      ]
    },
    {
      "cell_type": "markdown",
      "metadata": {
        "id": "l97ogLz5mi1B"
      },
      "source": [
        "As we can see in previous output that we have total 4 class"
      ]
    },
    {
      "cell_type": "markdown",
      "metadata": {
        "id": "5E1IH5obhzCe"
      },
      "source": [
        "Now lets store pandas data frame into numpy array"
      ]
    },
    {
      "cell_type": "code",
      "metadata": {
        "colab": {
          "base_uri": "https://localhost:8080/"
        },
        "id": "NWfPvIosh6pV",
        "outputId": "620a27dd-75cc-408b-c127-baf462f3737a"
      },
      "source": [
        "X = df.iloc[:,:20].values\n",
        "y = df.iloc[:,20:21].values\n",
        "X[0]"
      ],
      "execution_count": 11,
      "outputs": [
        {
          "output_type": "execute_result",
          "data": {
            "text/plain": [
              "array([8.420e+02, 0.000e+00, 2.200e+00, 0.000e+00, 1.000e+00, 0.000e+00,\n",
              "       7.000e+00, 6.000e-01, 1.880e+02, 2.000e+00, 2.000e+00, 2.000e+01,\n",
              "       7.560e+02, 2.549e+03, 9.000e+00, 7.000e+00, 1.900e+01, 0.000e+00,\n",
              "       0.000e+00, 1.000e+00])"
            ]
          },
          "metadata": {
            "tags": []
          },
          "execution_count": 11
        }
      ]
    },
    {
      "cell_type": "code",
      "metadata": {
        "colab": {
          "base_uri": "https://localhost:8080/"
        },
        "id": "aQd9BSoRiUYD",
        "outputId": "21725457-6b05-4c7b-8750-068a1610c1f2"
      },
      "source": [
        "X[2:,1]"
      ],
      "execution_count": 13,
      "outputs": [
        {
          "output_type": "execute_result",
          "data": {
            "text/plain": [
              "array([1., 1., 1., ..., 0., 0., 1.])"
            ]
          },
          "metadata": {
            "tags": []
          },
          "execution_count": 13
        }
      ]
    },
    {
      "cell_type": "markdown",
      "metadata": {
        "id": "AslYZBcYiuA6"
      },
      "source": [
        "Now first lets check is there any missing valeu of duplicated row then we need to normalise the data"
      ]
    },
    {
      "cell_type": "code",
      "metadata": {
        "colab": {
          "base_uri": "https://localhost:8080/"
        },
        "id": "BX8RA52fi4g8",
        "outputId": "ed769eab-c55b-4285-852c-234bc644b9be"
      },
      "source": [
        "print(df.isnull().sum())"
      ],
      "execution_count": 14,
      "outputs": [
        {
          "output_type": "stream",
          "text": [
            "battery_power    0\n",
            "blue             0\n",
            "clock_speed      0\n",
            "dual_sim         0\n",
            "fc               0\n",
            "four_g           0\n",
            "int_memory       0\n",
            "m_dep            0\n",
            "mobile_wt        0\n",
            "n_cores          0\n",
            "pc               0\n",
            "px_height        0\n",
            "px_width         0\n",
            "ram              0\n",
            "sc_h             0\n",
            "sc_w             0\n",
            "talk_time        0\n",
            "three_g          0\n",
            "touch_screen     0\n",
            "wifi             0\n",
            "price_range      0\n",
            "dtype: int64\n"
          ],
          "name": "stdout"
        }
      ]
    },
    {
      "cell_type": "code",
      "metadata": {
        "colab": {
          "base_uri": "https://localhost:8080/"
        },
        "id": "uUGMPLEljJPU",
        "outputId": "4bbf1f8d-f2b8-443f-b98f-0191a25a0387"
      },
      "source": [
        "print(df.duplicated().sum())"
      ],
      "execution_count": 15,
      "outputs": [
        {
          "output_type": "stream",
          "text": [
            "0\n"
          ],
          "name": "stdout"
        }
      ]
    },
    {
      "cell_type": "markdown",
      "metadata": {
        "id": "JBxivYB9jSee"
      },
      "source": [
        "As we can also see here that there is no duplicated row here, no mising value here so we can go for normalising part"
      ]
    },
    {
      "cell_type": "code",
      "metadata": {
        "id": "TEOetC8_jQhS"
      },
      "source": [
        "#Normalizing the data\n",
        "from sklearn.preprocessing import StandardScaler\n",
        "sc = StandardScaler()\n",
        "X = sc.fit_transform(X)"
      ],
      "execution_count": 16,
      "outputs": []
    },
    {
      "cell_type": "code",
      "metadata": {
        "colab": {
          "base_uri": "https://localhost:8080/"
        },
        "id": "4JbdcVUHj1PA",
        "outputId": "e3be09fb-df19-4c38-e3e6-239e79c55eff"
      },
      "source": [
        "X"
      ],
      "execution_count": 17,
      "outputs": [
        {
          "output_type": "execute_result",
          "data": {
            "text/plain": [
              "array([[-0.90259726, -0.9900495 ,  0.83077942, ..., -1.78686097,\n",
              "        -1.00601811,  0.98609664],\n",
              "       [-0.49513857,  1.0100505 , -1.2530642 , ...,  0.55964063,\n",
              "         0.99401789, -1.01409939],\n",
              "       [-1.5376865 ,  1.0100505 , -1.2530642 , ...,  0.55964063,\n",
              "         0.99401789, -1.01409939],\n",
              "       ...,\n",
              "       [ 1.53077336, -0.9900495 , -0.76274805, ...,  0.55964063,\n",
              "         0.99401789, -1.01409939],\n",
              "       [ 0.62252745, -0.9900495 , -0.76274805, ...,  0.55964063,\n",
              "         0.99401789,  0.98609664],\n",
              "       [-1.65833069,  1.0100505 ,  0.58562134, ...,  0.55964063,\n",
              "         0.99401789,  0.98609664]])"
            ]
          },
          "metadata": {
            "tags": []
          },
          "execution_count": 17
        }
      ]
    },
    {
      "cell_type": "markdown",
      "metadata": {
        "id": "fJ0NfplFkx_e"
      },
      "source": [
        "Now lets perform onehot enocoder for target variable "
      ]
    },
    {
      "cell_type": "code",
      "metadata": {
        "colab": {
          "base_uri": "https://localhost:8080/"
        },
        "id": "vbkV_Cd0k3QY",
        "outputId": "1b39d582-cbc2-4efb-a168-f25d4870fd78"
      },
      "source": [
        "from sklearn.preprocessing import OneHotEncoder\n",
        "ohe = OneHotEncoder()\n",
        "y = ohe.fit_transform(y).toarray()\n",
        "y"
      ],
      "execution_count": 18,
      "outputs": [
        {
          "output_type": "execute_result",
          "data": {
            "text/plain": [
              "array([[0., 1., 0., 0.],\n",
              "       [0., 0., 1., 0.],\n",
              "       [0., 0., 1., 0.],\n",
              "       ...,\n",
              "       [0., 0., 0., 1.],\n",
              "       [1., 0., 0., 0.],\n",
              "       [0., 0., 0., 1.]])"
            ]
          },
          "metadata": {
            "tags": []
          },
          "execution_count": 18
        }
      ]
    },
    {
      "cell_type": "code",
      "metadata": {
        "colab": {
          "base_uri": "https://localhost:8080/"
        },
        "id": "bBNbC5SplzTM",
        "outputId": "c342de58-4338-49c7-e8c6-a1a2b3b93588"
      },
      "source": [
        "y.shape"
      ],
      "execution_count": 22,
      "outputs": [
        {
          "output_type": "execute_result",
          "data": {
            "text/plain": [
              "(2000, 4)"
            ]
          },
          "metadata": {
            "tags": []
          },
          "execution_count": 22
        }
      ]
    },
    {
      "cell_type": "markdown",
      "metadata": {
        "id": "PqORsO7vm2h-"
      },
      "source": [
        "Now we are ready to train our model, lets first split the data into two part, train and test"
      ]
    },
    {
      "cell_type": "code",
      "metadata": {
        "colab": {
          "base_uri": "https://localhost:8080/"
        },
        "id": "zV6iY_4KmrL8",
        "outputId": "6378c485-89cf-4ca0-b61e-988a5565e9de"
      },
      "source": [
        "from sklearn.model_selection import train_test_split\n",
        "X_train,X_test,y_train,y_test = train_test_split(X,y,test_size = 0.1)\n",
        "X_train.shape, X_test.shape"
      ],
      "execution_count": 24,
      "outputs": [
        {
          "output_type": "execute_result",
          "data": {
            "text/plain": [
              "((1800, 20), (200, 20))"
            ]
          },
          "metadata": {
            "tags": []
          },
          "execution_count": 24
        }
      ]
    },
    {
      "cell_type": "markdown",
      "metadata": {
        "id": "kgCEyV1snnd5"
      },
      "source": [
        "# Lets build Nural Network Model\n",
        "\n",
        "We have input dimention 20, and output dimention is 4\n",
        " In foloowing function, the softmax activation function is \n",
        " ![image.png](data:image/png;base64,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) "
      ]
    },
    {
      "cell_type": "markdown",
      "metadata": {
        "id": "_1C0n10Osa0Q"
      },
      "source": [
        "For multiclass classification we use softmax Activation function"
      ]
    },
    {
      "cell_type": "code",
      "metadata": {
        "id": "G7ggkiRZnsNr"
      },
      "source": [
        "#Dependencies\n",
        "import keras\n",
        "from keras.models import Sequential\n",
        "from keras.layers import Dense # for Neural network\n",
        "model = Sequential()\n",
        "model.add(Dense(16, input_dim=20, activation='relu'))\n",
        "model.add(Dense(12, activation='relu'))\n",
        "model.add(Dense(4, activation='softmax'))"
      ],
      "execution_count": 26,
      "outputs": []
    },
    {
      "cell_type": "markdown",
      "metadata": {
        "id": "KbI0pwcPsslS"
      },
      "source": [
        "Now we need to specify the loss function and the optimizer. It is done using compile function in keras."
      ]
    },
    {
      "cell_type": "code",
      "metadata": {
        "id": "2zieopuMstu5"
      },
      "source": [
        "model.compile(loss='categorical_crossentropy', optimizer='adam', metrics=['accuracy'])"
      ],
      "execution_count": 27,
      "outputs": []
    },
    {
      "cell_type": "markdown",
      "metadata": {
        "id": "TAfXW4kJwoHM"
      },
      "source": [
        "# Let's train the model"
      ]
    },
    {
      "cell_type": "code",
      "metadata": {
        "colab": {
          "base_uri": "https://localhost:8080/"
        },
        "id": "Fk5igp8ZwquM",
        "outputId": "56115c10-11ff-4516-808a-6f01232b85b6"
      },
      "source": [
        "trained = model.fit(X_train, y_train, epochs=100, batch_size=64)"
      ],
      "execution_count": 28,
      "outputs": [
        {
          "output_type": "stream",
          "text": [
            "Epoch 1/100\n",
            "29/29 [==============================] - 1s 1ms/step - loss: 1.4252 - accuracy: 0.2702\n",
            "Epoch 2/100\n",
            "29/29 [==============================] - 0s 1ms/step - loss: 1.3583 - accuracy: 0.3469\n",
            "Epoch 3/100\n",
            "29/29 [==============================] - 0s 1ms/step - loss: 1.2953 - accuracy: 0.4222\n",
            "Epoch 4/100\n",
            "29/29 [==============================] - 0s 1ms/step - loss: 1.2397 - accuracy: 0.4690\n",
            "Epoch 5/100\n",
            "29/29 [==============================] - 0s 1ms/step - loss: 1.1813 - accuracy: 0.5036\n",
            "Epoch 6/100\n",
            "29/29 [==============================] - 0s 1ms/step - loss: 1.1054 - accuracy: 0.5424\n",
            "Epoch 7/100\n",
            "29/29 [==============================] - 0s 1ms/step - loss: 0.9974 - accuracy: 0.6097\n",
            "Epoch 8/100\n",
            "29/29 [==============================] - 0s 1ms/step - loss: 0.9349 - accuracy: 0.6177\n",
            "Epoch 9/100\n",
            "29/29 [==============================] - 0s 1ms/step - loss: 0.8484 - accuracy: 0.6596\n",
            "Epoch 10/100\n",
            "29/29 [==============================] - 0s 1ms/step - loss: 0.7577 - accuracy: 0.6936\n",
            "Epoch 11/100\n",
            "29/29 [==============================] - 0s 1ms/step - loss: 0.6787 - accuracy: 0.7612\n",
            "Epoch 12/100\n",
            "29/29 [==============================] - 0s 1ms/step - loss: 0.6353 - accuracy: 0.7733\n",
            "Epoch 13/100\n",
            "29/29 [==============================] - 0s 1ms/step - loss: 0.5757 - accuracy: 0.8084\n",
            "Epoch 14/100\n",
            "29/29 [==============================] - 0s 1ms/step - loss: 0.5537 - accuracy: 0.8180\n",
            "Epoch 15/100\n",
            "29/29 [==============================] - 0s 1ms/step - loss: 0.4875 - accuracy: 0.8539\n",
            "Epoch 16/100\n",
            "29/29 [==============================] - 0s 2ms/step - loss: 0.4568 - accuracy: 0.8725\n",
            "Epoch 17/100\n",
            "29/29 [==============================] - 0s 1ms/step - loss: 0.4338 - accuracy: 0.8655\n",
            "Epoch 18/100\n",
            "29/29 [==============================] - 0s 1ms/step - loss: 0.4122 - accuracy: 0.8804\n",
            "Epoch 19/100\n",
            "29/29 [==============================] - 0s 1ms/step - loss: 0.3723 - accuracy: 0.9037\n",
            "Epoch 20/100\n",
            "29/29 [==============================] - 0s 1ms/step - loss: 0.3550 - accuracy: 0.8999\n",
            "Epoch 21/100\n",
            "29/29 [==============================] - 0s 1ms/step - loss: 0.3437 - accuracy: 0.9093\n",
            "Epoch 22/100\n",
            "29/29 [==============================] - 0s 1ms/step - loss: 0.3130 - accuracy: 0.9203\n",
            "Epoch 23/100\n",
            "29/29 [==============================] - 0s 1ms/step - loss: 0.2908 - accuracy: 0.9229\n",
            "Epoch 24/100\n",
            "29/29 [==============================] - 0s 1ms/step - loss: 0.2775 - accuracy: 0.9247\n",
            "Epoch 25/100\n",
            "29/29 [==============================] - 0s 1ms/step - loss: 0.2524 - accuracy: 0.9403\n",
            "Epoch 26/100\n",
            "29/29 [==============================] - 0s 1ms/step - loss: 0.2510 - accuracy: 0.9367\n",
            "Epoch 27/100\n",
            "29/29 [==============================] - 0s 1ms/step - loss: 0.2379 - accuracy: 0.9376\n",
            "Epoch 28/100\n",
            "29/29 [==============================] - 0s 1ms/step - loss: 0.2315 - accuracy: 0.9391\n",
            "Epoch 29/100\n",
            "29/29 [==============================] - 0s 2ms/step - loss: 0.2159 - accuracy: 0.9408\n",
            "Epoch 30/100\n",
            "29/29 [==============================] - 0s 1ms/step - loss: 0.2124 - accuracy: 0.9405\n",
            "Epoch 31/100\n",
            "29/29 [==============================] - 0s 1ms/step - loss: 0.1950 - accuracy: 0.9555\n",
            "Epoch 32/100\n",
            "29/29 [==============================] - 0s 1ms/step - loss: 0.1915 - accuracy: 0.9515\n",
            "Epoch 33/100\n",
            "29/29 [==============================] - 0s 1ms/step - loss: 0.1833 - accuracy: 0.9491\n",
            "Epoch 34/100\n",
            "29/29 [==============================] - 0s 1ms/step - loss: 0.1793 - accuracy: 0.9499\n",
            "Epoch 35/100\n",
            "29/29 [==============================] - 0s 1ms/step - loss: 0.1778 - accuracy: 0.9452\n",
            "Epoch 36/100\n",
            "29/29 [==============================] - 0s 1ms/step - loss: 0.1581 - accuracy: 0.9612\n",
            "Epoch 37/100\n",
            "29/29 [==============================] - 0s 1ms/step - loss: 0.1622 - accuracy: 0.9542\n",
            "Epoch 38/100\n",
            "29/29 [==============================] - 0s 1ms/step - loss: 0.1497 - accuracy: 0.9610\n",
            "Epoch 39/100\n",
            "29/29 [==============================] - 0s 1ms/step - loss: 0.1527 - accuracy: 0.9538\n",
            "Epoch 40/100\n",
            "29/29 [==============================] - 0s 1ms/step - loss: 0.1463 - accuracy: 0.9602\n",
            "Epoch 41/100\n",
            "29/29 [==============================] - 0s 2ms/step - loss: 0.1446 - accuracy: 0.9597\n",
            "Epoch 42/100\n",
            "29/29 [==============================] - 0s 1ms/step - loss: 0.1427 - accuracy: 0.9615\n",
            "Epoch 43/100\n",
            "29/29 [==============================] - 0s 1ms/step - loss: 0.1267 - accuracy: 0.9671\n",
            "Epoch 44/100\n",
            "29/29 [==============================] - 0s 1ms/step - loss: 0.1271 - accuracy: 0.9691\n",
            "Epoch 45/100\n",
            "29/29 [==============================] - 0s 1ms/step - loss: 0.1293 - accuracy: 0.9617\n",
            "Epoch 46/100\n",
            "29/29 [==============================] - 0s 1ms/step - loss: 0.1253 - accuracy: 0.9711\n",
            "Epoch 47/100\n",
            "29/29 [==============================] - 0s 1ms/step - loss: 0.1295 - accuracy: 0.9579\n",
            "Epoch 48/100\n",
            "29/29 [==============================] - 0s 1ms/step - loss: 0.1171 - accuracy: 0.9696\n",
            "Epoch 49/100\n",
            "29/29 [==============================] - 0s 1ms/step - loss: 0.1179 - accuracy: 0.9673\n",
            "Epoch 50/100\n",
            "29/29 [==============================] - 0s 1ms/step - loss: 0.1162 - accuracy: 0.9676\n",
            "Epoch 51/100\n",
            "29/29 [==============================] - 0s 1ms/step - loss: 0.1117 - accuracy: 0.9683\n",
            "Epoch 52/100\n",
            "29/29 [==============================] - 0s 1ms/step - loss: 0.1079 - accuracy: 0.9735\n",
            "Epoch 53/100\n",
            "29/29 [==============================] - 0s 1ms/step - loss: 0.1110 - accuracy: 0.9694\n",
            "Epoch 54/100\n",
            "29/29 [==============================] - 0s 1ms/step - loss: 0.1031 - accuracy: 0.9738\n",
            "Epoch 55/100\n",
            "29/29 [==============================] - 0s 1ms/step - loss: 0.1054 - accuracy: 0.9716\n",
            "Epoch 56/100\n",
            "29/29 [==============================] - 0s 1ms/step - loss: 0.0959 - accuracy: 0.9758\n",
            "Epoch 57/100\n",
            "29/29 [==============================] - 0s 1ms/step - loss: 0.0977 - accuracy: 0.9747\n",
            "Epoch 58/100\n",
            "29/29 [==============================] - 0s 1ms/step - loss: 0.0942 - accuracy: 0.9774\n",
            "Epoch 59/100\n",
            "29/29 [==============================] - 0s 1ms/step - loss: 0.0929 - accuracy: 0.9801\n",
            "Epoch 60/100\n",
            "29/29 [==============================] - 0s 1ms/step - loss: 0.0912 - accuracy: 0.9816\n",
            "Epoch 61/100\n",
            "29/29 [==============================] - 0s 1ms/step - loss: 0.0893 - accuracy: 0.9784\n",
            "Epoch 62/100\n",
            "29/29 [==============================] - 0s 1ms/step - loss: 0.0871 - accuracy: 0.9787\n",
            "Epoch 63/100\n",
            "29/29 [==============================] - 0s 1ms/step - loss: 0.0879 - accuracy: 0.9751\n",
            "Epoch 64/100\n",
            "29/29 [==============================] - 0s 1ms/step - loss: 0.0838 - accuracy: 0.9840\n",
            "Epoch 65/100\n",
            "29/29 [==============================] - 0s 1ms/step - loss: 0.0841 - accuracy: 0.9808\n",
            "Epoch 66/100\n",
            "29/29 [==============================] - 0s 1ms/step - loss: 0.0845 - accuracy: 0.9819\n",
            "Epoch 67/100\n",
            "29/29 [==============================] - 0s 1ms/step - loss: 0.0812 - accuracy: 0.9835\n",
            "Epoch 68/100\n",
            "29/29 [==============================] - 0s 1ms/step - loss: 0.0781 - accuracy: 0.9861\n",
            "Epoch 69/100\n",
            "29/29 [==============================] - 0s 1ms/step - loss: 0.0770 - accuracy: 0.9857\n",
            "Epoch 70/100\n",
            "29/29 [==============================] - 0s 1ms/step - loss: 0.0702 - accuracy: 0.9888\n",
            "Epoch 71/100\n",
            "29/29 [==============================] - 0s 1ms/step - loss: 0.0673 - accuracy: 0.9857\n",
            "Epoch 72/100\n",
            "29/29 [==============================] - 0s 1ms/step - loss: 0.0756 - accuracy: 0.9868\n",
            "Epoch 73/100\n",
            "29/29 [==============================] - 0s 1ms/step - loss: 0.0671 - accuracy: 0.9882\n",
            "Epoch 74/100\n",
            "29/29 [==============================] - 0s 1ms/step - loss: 0.0745 - accuracy: 0.9848\n",
            "Epoch 75/100\n",
            "29/29 [==============================] - 0s 1ms/step - loss: 0.0710 - accuracy: 0.9860\n",
            "Epoch 76/100\n",
            "29/29 [==============================] - 0s 1ms/step - loss: 0.0596 - accuracy: 0.9875\n",
            "Epoch 77/100\n",
            "29/29 [==============================] - 0s 1ms/step - loss: 0.0734 - accuracy: 0.9833\n",
            "Epoch 78/100\n",
            "29/29 [==============================] - 0s 1ms/step - loss: 0.0708 - accuracy: 0.9883\n",
            "Epoch 79/100\n",
            "29/29 [==============================] - 0s 1ms/step - loss: 0.0674 - accuracy: 0.9825\n",
            "Epoch 80/100\n",
            "29/29 [==============================] - 0s 1ms/step - loss: 0.0667 - accuracy: 0.9885\n",
            "Epoch 81/100\n",
            "29/29 [==============================] - 0s 1ms/step - loss: 0.0602 - accuracy: 0.9873\n",
            "Epoch 82/100\n",
            "29/29 [==============================] - 0s 1ms/step - loss: 0.0586 - accuracy: 0.9879\n",
            "Epoch 83/100\n",
            "29/29 [==============================] - 0s 1ms/step - loss: 0.0592 - accuracy: 0.9886\n",
            "Epoch 84/100\n",
            "29/29 [==============================] - 0s 1ms/step - loss: 0.0588 - accuracy: 0.9898\n",
            "Epoch 85/100\n",
            "29/29 [==============================] - 0s 1ms/step - loss: 0.0539 - accuracy: 0.9884\n",
            "Epoch 86/100\n",
            "29/29 [==============================] - 0s 1ms/step - loss: 0.0599 - accuracy: 0.9853\n",
            "Epoch 87/100\n",
            "29/29 [==============================] - 0s 1ms/step - loss: 0.0599 - accuracy: 0.9872\n",
            "Epoch 88/100\n",
            "29/29 [==============================] - 0s 1ms/step - loss: 0.0523 - accuracy: 0.9929\n",
            "Epoch 89/100\n",
            "29/29 [==============================] - 0s 2ms/step - loss: 0.0578 - accuracy: 0.9858\n",
            "Epoch 90/100\n",
            "29/29 [==============================] - 0s 1ms/step - loss: 0.0557 - accuracy: 0.9878\n",
            "Epoch 91/100\n",
            "29/29 [==============================] - 0s 1ms/step - loss: 0.0537 - accuracy: 0.9884\n",
            "Epoch 92/100\n",
            "29/29 [==============================] - 0s 2ms/step - loss: 0.0533 - accuracy: 0.9910\n",
            "Epoch 93/100\n",
            "29/29 [==============================] - 0s 1ms/step - loss: 0.0511 - accuracy: 0.9915\n",
            "Epoch 94/100\n",
            "29/29 [==============================] - 0s 1ms/step - loss: 0.0522 - accuracy: 0.9902\n",
            "Epoch 95/100\n",
            "29/29 [==============================] - 0s 1ms/step - loss: 0.0524 - accuracy: 0.9914\n",
            "Epoch 96/100\n",
            "29/29 [==============================] - 0s 1ms/step - loss: 0.0486 - accuracy: 0.9906\n",
            "Epoch 97/100\n",
            "29/29 [==============================] - 0s 1ms/step - loss: 0.0431 - accuracy: 0.9934\n",
            "Epoch 98/100\n",
            "29/29 [==============================] - 0s 1ms/step - loss: 0.0460 - accuracy: 0.9936\n",
            "Epoch 99/100\n",
            "29/29 [==============================] - 0s 1ms/step - loss: 0.0404 - accuracy: 0.9955\n",
            "Epoch 100/100\n",
            "29/29 [==============================] - 0s 1ms/step - loss: 0.0445 - accuracy: 0.9926\n"
          ],
          "name": "stdout"
        }
      ]
    },
    {
      "cell_type": "markdown",
      "metadata": {
        "id": "dca2psPjxNUg"
      },
      "source": [
        "Now our model is trained and we can check model performence in test data"
      ]
    },
    {
      "cell_type": "code",
      "metadata": {
        "colab": {
          "base_uri": "https://localhost:8080/"
        },
        "id": "BRhTHgdaxXWp",
        "outputId": "e87e3c7c-2f60-4be4-bb26-4e55e028d274"
      },
      "source": [
        "y_pred = model.predict(X_test)\n",
        "#Converting predictions to label\n",
        "\n",
        "# The following step will reverse the one hot encoded step\n",
        "pred = []\n",
        "for i in range(len(y_pred)):\n",
        "    pred.append(np.argmax(y_pred[i]))\n",
        "print(pred)\n",
        "#Converting one hot encoded test label to label\n",
        "test = []\n",
        "for i in range(len(y_test)):\n",
        "    test.append(np.argmax(y_test[i]))\n",
        "print(test)"
      ],
      "execution_count": 31,
      "outputs": [
        {
          "output_type": "stream",
          "text": [
            "[2, 0, 0, 1, 0, 1, 3, 3, 0, 2, 2, 1, 2, 0, 1, 1, 0, 3, 0, 1, 1, 1, 2, 0, 3, 0, 0, 2, 2, 2, 1, 3, 1, 2, 1, 2, 3, 1, 2, 1, 3, 0, 2, 0, 0, 0, 2, 2, 1, 3, 3, 2, 0, 3, 3, 3, 1, 3, 2, 3, 1, 1, 3, 0, 1, 2, 1, 2, 3, 1, 3, 3, 3, 0, 3, 2, 1, 1, 3, 0, 3, 3, 3, 3, 3, 1, 3, 1, 3, 2, 3, 0, 2, 3, 1, 1, 3, 0, 1, 3, 0, 0, 3, 3, 2, 2, 0, 1, 3, 0, 0, 3, 3, 1, 0, 2, 3, 1, 0, 0, 3, 0, 1, 1, 0, 2, 0, 0, 2, 3, 2, 0, 0, 3, 0, 1, 2, 1, 3, 2, 2, 1, 1, 3, 1, 2, 1, 2, 3, 0, 1, 1, 2, 1, 3, 1, 2, 2, 3, 0, 1, 1, 1, 2, 2, 0, 1, 2, 3, 2, 3, 1, 3, 1, 1, 0, 3, 1, 2, 0, 3, 3, 1, 1, 3, 1, 1, 1, 2, 0, 3, 3, 1, 3, 2, 0, 1, 2, 3, 0]\n",
            "[2, 0, 0, 1, 0, 1, 3, 3, 1, 2, 2, 1, 2, 0, 1, 1, 0, 3, 0, 1, 1, 1, 2, 1, 3, 0, 0, 2, 2, 2, 1, 3, 1, 1, 0, 2, 3, 1, 2, 1, 3, 0, 2, 0, 1, 0, 2, 2, 1, 3, 3, 2, 0, 2, 3, 3, 1, 3, 2, 3, 1, 1, 3, 0, 1, 2, 1, 2, 3, 1, 3, 3, 3, 0, 3, 2, 1, 1, 2, 0, 3, 3, 3, 3, 3, 1, 3, 1, 3, 2, 3, 1, 2, 3, 1, 1, 3, 0, 1, 3, 0, 0, 3, 3, 2, 2, 0, 1, 3, 0, 0, 3, 3, 1, 1, 2, 3, 1, 0, 0, 3, 0, 1, 1, 0, 2, 0, 0, 2, 3, 2, 0, 0, 3, 0, 1, 2, 1, 3, 2, 2, 1, 0, 3, 1, 2, 1, 2, 3, 0, 1, 1, 2, 1, 3, 1, 2, 2, 3, 0, 1, 1, 0, 2, 2, 0, 1, 2, 3, 2, 2, 1, 3, 1, 1, 0, 2, 1, 2, 0, 2, 3, 1, 1, 3, 1, 1, 1, 2, 1, 3, 3, 1, 3, 3, 0, 1, 2, 3, 0]\n"
          ],
          "name": "stdout"
        }
      ]
    },
    {
      "cell_type": "code",
      "metadata": {
        "colab": {
          "base_uri": "https://localhost:8080/"
        },
        "id": "z7s0Sd9qzv31",
        "outputId": "cde1df8b-8d68-4383-9aa5-8e6a05fcca0e"
      },
      "source": [
        "from sklearn.metrics import accuracy_score\n",
        "a = accuracy_score(pred,test)\n",
        "print('Accuracy is:', a*100)"
      ],
      "execution_count": 32,
      "outputs": [
        {
          "output_type": "stream",
          "text": [
            "Accuracy is: 92.0\n"
          ],
          "name": "stdout"
        }
      ]
    },
    {
      "cell_type": "markdown",
      "metadata": {
        "id": "quEhsBSr0GBE"
      },
      "source": [
        "Lets check the accuracy of after every step of training"
      ]
    },
    {
      "cell_type": "code",
      "metadata": {
        "colab": {
          "base_uri": "https://localhost:8080/"
        },
        "id": "xQosiGZq0U_W",
        "outputId": "e9cdba68-3fd7-41c6-9c78-96b97f04b812"
      },
      "source": [
        "trained2 = model.fit(X_train, y_train,validation_data = (X_test,y_test), epochs=100, batch_size=64)"
      ],
      "execution_count": 33,
      "outputs": [
        {
          "output_type": "stream",
          "text": [
            "Epoch 1/100\n",
            "29/29 [==============================] - 0s 15ms/step - loss: 0.0446 - accuracy: 0.9928 - val_loss: 0.2069 - val_accuracy: 0.9200\n",
            "Epoch 2/100\n",
            "29/29 [==============================] - 0s 3ms/step - loss: 0.0435 - accuracy: 0.9933 - val_loss: 0.2041 - val_accuracy: 0.9150\n",
            "Epoch 3/100\n",
            "29/29 [==============================] - 0s 3ms/step - loss: 0.0432 - accuracy: 0.9933 - val_loss: 0.2035 - val_accuracy: 0.9200\n",
            "Epoch 4/100\n",
            "29/29 [==============================] - 0s 3ms/step - loss: 0.0426 - accuracy: 0.9933 - val_loss: 0.2067 - val_accuracy: 0.9200\n",
            "Epoch 5/100\n",
            "29/29 [==============================] - 0s 3ms/step - loss: 0.0416 - accuracy: 0.9950 - val_loss: 0.2069 - val_accuracy: 0.9200\n",
            "Epoch 6/100\n",
            "29/29 [==============================] - 0s 3ms/step - loss: 0.0411 - accuracy: 0.9944 - val_loss: 0.2059 - val_accuracy: 0.9200\n",
            "Epoch 7/100\n",
            "29/29 [==============================] - 0s 3ms/step - loss: 0.0406 - accuracy: 0.9950 - val_loss: 0.2031 - val_accuracy: 0.9150\n",
            "Epoch 8/100\n",
            "29/29 [==============================] - 0s 3ms/step - loss: 0.0403 - accuracy: 0.9939 - val_loss: 0.2043 - val_accuracy: 0.9150\n",
            "Epoch 9/100\n",
            "29/29 [==============================] - 0s 3ms/step - loss: 0.0388 - accuracy: 0.9961 - val_loss: 0.2078 - val_accuracy: 0.9150\n",
            "Epoch 10/100\n",
            "29/29 [==============================] - 0s 3ms/step - loss: 0.0404 - accuracy: 0.9928 - val_loss: 0.2087 - val_accuracy: 0.9200\n",
            "Epoch 11/100\n",
            "29/29 [==============================] - 0s 3ms/step - loss: 0.0385 - accuracy: 0.9950 - val_loss: 0.2055 - val_accuracy: 0.9150\n",
            "Epoch 12/100\n",
            "29/29 [==============================] - 0s 3ms/step - loss: 0.0369 - accuracy: 0.9961 - val_loss: 0.2116 - val_accuracy: 0.9200\n",
            "Epoch 13/100\n",
            "29/29 [==============================] - 0s 3ms/step - loss: 0.0364 - accuracy: 0.9944 - val_loss: 0.2070 - val_accuracy: 0.9200\n",
            "Epoch 14/100\n",
            "29/29 [==============================] - 0s 3ms/step - loss: 0.0361 - accuracy: 0.9961 - val_loss: 0.2093 - val_accuracy: 0.9200\n",
            "Epoch 15/100\n",
            "29/29 [==============================] - 0s 3ms/step - loss: 0.0351 - accuracy: 0.9961 - val_loss: 0.2096 - val_accuracy: 0.9150\n",
            "Epoch 16/100\n",
            "29/29 [==============================] - 0s 3ms/step - loss: 0.0349 - accuracy: 0.9944 - val_loss: 0.2116 - val_accuracy: 0.9100\n",
            "Epoch 17/100\n",
            "29/29 [==============================] - 0s 3ms/step - loss: 0.0342 - accuracy: 0.9961 - val_loss: 0.2075 - val_accuracy: 0.9200\n",
            "Epoch 18/100\n",
            "29/29 [==============================] - 0s 3ms/step - loss: 0.0340 - accuracy: 0.9967 - val_loss: 0.2078 - val_accuracy: 0.9200\n",
            "Epoch 19/100\n",
            "29/29 [==============================] - 0s 3ms/step - loss: 0.0328 - accuracy: 0.9972 - val_loss: 0.2140 - val_accuracy: 0.9200\n",
            "Epoch 20/100\n",
            "29/29 [==============================] - 0s 3ms/step - loss: 0.0325 - accuracy: 0.9972 - val_loss: 0.2092 - val_accuracy: 0.9200\n",
            "Epoch 21/100\n",
            "29/29 [==============================] - 0s 3ms/step - loss: 0.0319 - accuracy: 0.9972 - val_loss: 0.2142 - val_accuracy: 0.9200\n",
            "Epoch 22/100\n",
            "29/29 [==============================] - 0s 3ms/step - loss: 0.0310 - accuracy: 0.9956 - val_loss: 0.2108 - val_accuracy: 0.9100\n",
            "Epoch 23/100\n",
            "29/29 [==============================] - 0s 3ms/step - loss: 0.0301 - accuracy: 0.9978 - val_loss: 0.2121 - val_accuracy: 0.9250\n",
            "Epoch 24/100\n",
            "29/29 [==============================] - 0s 3ms/step - loss: 0.0303 - accuracy: 0.9978 - val_loss: 0.2148 - val_accuracy: 0.9150\n",
            "Epoch 25/100\n",
            "29/29 [==============================] - 0s 3ms/step - loss: 0.0304 - accuracy: 0.9961 - val_loss: 0.2130 - val_accuracy: 0.9150\n",
            "Epoch 26/100\n",
            "29/29 [==============================] - 0s 3ms/step - loss: 0.0285 - accuracy: 0.9983 - val_loss: 0.2209 - val_accuracy: 0.9200\n",
            "Epoch 27/100\n",
            "29/29 [==============================] - 0s 3ms/step - loss: 0.0284 - accuracy: 0.9967 - val_loss: 0.2165 - val_accuracy: 0.9200\n",
            "Epoch 28/100\n",
            "29/29 [==============================] - 0s 3ms/step - loss: 0.0283 - accuracy: 0.9972 - val_loss: 0.2195 - val_accuracy: 0.9100\n",
            "Epoch 29/100\n",
            "29/29 [==============================] - 0s 3ms/step - loss: 0.0280 - accuracy: 0.9978 - val_loss: 0.2127 - val_accuracy: 0.9100\n",
            "Epoch 30/100\n",
            "29/29 [==============================] - 0s 3ms/step - loss: 0.0280 - accuracy: 0.9983 - val_loss: 0.2218 - val_accuracy: 0.9150\n",
            "Epoch 31/100\n",
            "29/29 [==============================] - 0s 3ms/step - loss: 0.0277 - accuracy: 0.9989 - val_loss: 0.2268 - val_accuracy: 0.9150\n",
            "Epoch 32/100\n",
            "29/29 [==============================] - 0s 3ms/step - loss: 0.0264 - accuracy: 0.9983 - val_loss: 0.2196 - val_accuracy: 0.9150\n",
            "Epoch 33/100\n",
            "29/29 [==============================] - 0s 3ms/step - loss: 0.0264 - accuracy: 0.9983 - val_loss: 0.2148 - val_accuracy: 0.9150\n",
            "Epoch 34/100\n",
            "29/29 [==============================] - 0s 3ms/step - loss: 0.0260 - accuracy: 0.9978 - val_loss: 0.2239 - val_accuracy: 0.9150\n",
            "Epoch 35/100\n",
            "29/29 [==============================] - 0s 3ms/step - loss: 0.0254 - accuracy: 0.9989 - val_loss: 0.2294 - val_accuracy: 0.9150\n",
            "Epoch 36/100\n",
            "29/29 [==============================] - 0s 3ms/step - loss: 0.0259 - accuracy: 0.9983 - val_loss: 0.2296 - val_accuracy: 0.9150\n",
            "Epoch 37/100\n",
            "29/29 [==============================] - 0s 3ms/step - loss: 0.0245 - accuracy: 0.9978 - val_loss: 0.2227 - val_accuracy: 0.9100\n",
            "Epoch 38/100\n",
            "29/29 [==============================] - 0s 3ms/step - loss: 0.0237 - accuracy: 0.9983 - val_loss: 0.2269 - val_accuracy: 0.9100\n",
            "Epoch 39/100\n",
            "29/29 [==============================] - 0s 3ms/step - loss: 0.0233 - accuracy: 0.9983 - val_loss: 0.2265 - val_accuracy: 0.9150\n",
            "Epoch 40/100\n",
            "29/29 [==============================] - 0s 3ms/step - loss: 0.0239 - accuracy: 0.9989 - val_loss: 0.2347 - val_accuracy: 0.9200\n",
            "Epoch 41/100\n",
            "29/29 [==============================] - 0s 3ms/step - loss: 0.0225 - accuracy: 0.9989 - val_loss: 0.2283 - val_accuracy: 0.9150\n",
            "Epoch 42/100\n",
            "29/29 [==============================] - 0s 3ms/step - loss: 0.0222 - accuracy: 0.9994 - val_loss: 0.2360 - val_accuracy: 0.9100\n",
            "Epoch 43/100\n",
            "29/29 [==============================] - 0s 3ms/step - loss: 0.0219 - accuracy: 0.9994 - val_loss: 0.2387 - val_accuracy: 0.9150\n",
            "Epoch 44/100\n",
            "29/29 [==============================] - 0s 3ms/step - loss: 0.0219 - accuracy: 0.9994 - val_loss: 0.2333 - val_accuracy: 0.9200\n",
            "Epoch 45/100\n",
            "29/29 [==============================] - 0s 3ms/step - loss: 0.0207 - accuracy: 0.9994 - val_loss: 0.2345 - val_accuracy: 0.9150\n",
            "Epoch 46/100\n",
            "29/29 [==============================] - 0s 3ms/step - loss: 0.0210 - accuracy: 0.9989 - val_loss: 0.2336 - val_accuracy: 0.9150\n",
            "Epoch 47/100\n",
            "29/29 [==============================] - 0s 3ms/step - loss: 0.0202 - accuracy: 0.9989 - val_loss: 0.2355 - val_accuracy: 0.9150\n",
            "Epoch 48/100\n",
            "29/29 [==============================] - 0s 3ms/step - loss: 0.0218 - accuracy: 0.9989 - val_loss: 0.2359 - val_accuracy: 0.9250\n",
            "Epoch 49/100\n",
            "29/29 [==============================] - 0s 3ms/step - loss: 0.0209 - accuracy: 0.9989 - val_loss: 0.2456 - val_accuracy: 0.9100\n",
            "Epoch 50/100\n",
            "29/29 [==============================] - 0s 3ms/step - loss: 0.0209 - accuracy: 0.9989 - val_loss: 0.2459 - val_accuracy: 0.9150\n",
            "Epoch 51/100\n",
            "29/29 [==============================] - 0s 3ms/step - loss: 0.0193 - accuracy: 0.9994 - val_loss: 0.2354 - val_accuracy: 0.9100\n",
            "Epoch 52/100\n",
            "29/29 [==============================] - 0s 3ms/step - loss: 0.0190 - accuracy: 1.0000 - val_loss: 0.2470 - val_accuracy: 0.9150\n",
            "Epoch 53/100\n",
            "29/29 [==============================] - 0s 3ms/step - loss: 0.0196 - accuracy: 0.9994 - val_loss: 0.2532 - val_accuracy: 0.9150\n",
            "Epoch 54/100\n",
            "29/29 [==============================] - 0s 3ms/step - loss: 0.0186 - accuracy: 0.9989 - val_loss: 0.2386 - val_accuracy: 0.9100\n",
            "Epoch 55/100\n",
            "29/29 [==============================] - 0s 3ms/step - loss: 0.0181 - accuracy: 1.0000 - val_loss: 0.2513 - val_accuracy: 0.9150\n",
            "Epoch 56/100\n",
            "29/29 [==============================] - 0s 3ms/step - loss: 0.0194 - accuracy: 0.9983 - val_loss: 0.2378 - val_accuracy: 0.9050\n",
            "Epoch 57/100\n",
            "29/29 [==============================] - 0s 3ms/step - loss: 0.0185 - accuracy: 0.9994 - val_loss: 0.2470 - val_accuracy: 0.9050\n",
            "Epoch 58/100\n",
            "29/29 [==============================] - 0s 3ms/step - loss: 0.0174 - accuracy: 1.0000 - val_loss: 0.2547 - val_accuracy: 0.9100\n",
            "Epoch 59/100\n",
            "29/29 [==============================] - 0s 3ms/step - loss: 0.0172 - accuracy: 0.9994 - val_loss: 0.2509 - val_accuracy: 0.9050\n",
            "Epoch 60/100\n",
            "29/29 [==============================] - 0s 3ms/step - loss: 0.0170 - accuracy: 0.9994 - val_loss: 0.2507 - val_accuracy: 0.9050\n",
            "Epoch 61/100\n",
            "29/29 [==============================] - 0s 3ms/step - loss: 0.0168 - accuracy: 0.9994 - val_loss: 0.2497 - val_accuracy: 0.9050\n",
            "Epoch 62/100\n",
            "29/29 [==============================] - 0s 3ms/step - loss: 0.0173 - accuracy: 0.9994 - val_loss: 0.2554 - val_accuracy: 0.9100\n",
            "Epoch 63/100\n",
            "29/29 [==============================] - 0s 3ms/step - loss: 0.0161 - accuracy: 1.0000 - val_loss: 0.2549 - val_accuracy: 0.9100\n",
            "Epoch 64/100\n",
            "29/29 [==============================] - 0s 3ms/step - loss: 0.0157 - accuracy: 1.0000 - val_loss: 0.2547 - val_accuracy: 0.9050\n",
            "Epoch 65/100\n",
            "29/29 [==============================] - 0s 3ms/step - loss: 0.0158 - accuracy: 1.0000 - val_loss: 0.2556 - val_accuracy: 0.9150\n",
            "Epoch 66/100\n",
            "29/29 [==============================] - 0s 3ms/step - loss: 0.0152 - accuracy: 0.9994 - val_loss: 0.2576 - val_accuracy: 0.9100\n",
            "Epoch 67/100\n",
            "29/29 [==============================] - 0s 3ms/step - loss: 0.0151 - accuracy: 1.0000 - val_loss: 0.2591 - val_accuracy: 0.9150\n",
            "Epoch 68/100\n",
            "29/29 [==============================] - 0s 3ms/step - loss: 0.0150 - accuracy: 1.0000 - val_loss: 0.2613 - val_accuracy: 0.9100\n",
            "Epoch 69/100\n",
            "29/29 [==============================] - 0s 3ms/step - loss: 0.0148 - accuracy: 1.0000 - val_loss: 0.2622 - val_accuracy: 0.9100\n",
            "Epoch 70/100\n",
            "29/29 [==============================] - 0s 3ms/step - loss: 0.0145 - accuracy: 1.0000 - val_loss: 0.2588 - val_accuracy: 0.9100\n",
            "Epoch 71/100\n",
            "29/29 [==============================] - 0s 3ms/step - loss: 0.0144 - accuracy: 1.0000 - val_loss: 0.2662 - val_accuracy: 0.9050\n",
            "Epoch 72/100\n",
            "29/29 [==============================] - 0s 3ms/step - loss: 0.0144 - accuracy: 1.0000 - val_loss: 0.2637 - val_accuracy: 0.9100\n",
            "Epoch 73/100\n",
            "29/29 [==============================] - 0s 3ms/step - loss: 0.0139 - accuracy: 1.0000 - val_loss: 0.2698 - val_accuracy: 0.9100\n",
            "Epoch 74/100\n",
            "29/29 [==============================] - 0s 3ms/step - loss: 0.0147 - accuracy: 0.9994 - val_loss: 0.2619 - val_accuracy: 0.9150\n",
            "Epoch 75/100\n",
            "29/29 [==============================] - 0s 3ms/step - loss: 0.0135 - accuracy: 1.0000 - val_loss: 0.2684 - val_accuracy: 0.9000\n",
            "Epoch 76/100\n",
            "29/29 [==============================] - 0s 3ms/step - loss: 0.0132 - accuracy: 1.0000 - val_loss: 0.2675 - val_accuracy: 0.9100\n",
            "Epoch 77/100\n",
            "29/29 [==============================] - 0s 3ms/step - loss: 0.0131 - accuracy: 1.0000 - val_loss: 0.2682 - val_accuracy: 0.9100\n",
            "Epoch 78/100\n",
            "29/29 [==============================] - 0s 3ms/step - loss: 0.0128 - accuracy: 1.0000 - val_loss: 0.2759 - val_accuracy: 0.9050\n",
            "Epoch 79/100\n",
            "29/29 [==============================] - 0s 3ms/step - loss: 0.0128 - accuracy: 1.0000 - val_loss: 0.2651 - val_accuracy: 0.9050\n",
            "Epoch 80/100\n",
            "29/29 [==============================] - 0s 3ms/step - loss: 0.0133 - accuracy: 1.0000 - val_loss: 0.2708 - val_accuracy: 0.9000\n",
            "Epoch 81/100\n",
            "29/29 [==============================] - 0s 3ms/step - loss: 0.0125 - accuracy: 1.0000 - val_loss: 0.2660 - val_accuracy: 0.9050\n",
            "Epoch 82/100\n",
            "29/29 [==============================] - 0s 3ms/step - loss: 0.0123 - accuracy: 1.0000 - val_loss: 0.2720 - val_accuracy: 0.9050\n",
            "Epoch 83/100\n",
            "29/29 [==============================] - 0s 3ms/step - loss: 0.0122 - accuracy: 1.0000 - val_loss: 0.2697 - val_accuracy: 0.9050\n",
            "Epoch 84/100\n",
            "29/29 [==============================] - 0s 3ms/step - loss: 0.0115 - accuracy: 1.0000 - val_loss: 0.2785 - val_accuracy: 0.9000\n",
            "Epoch 85/100\n",
            "29/29 [==============================] - 0s 3ms/step - loss: 0.0113 - accuracy: 1.0000 - val_loss: 0.2753 - val_accuracy: 0.9050\n",
            "Epoch 86/100\n",
            "29/29 [==============================] - 0s 3ms/step - loss: 0.0110 - accuracy: 1.0000 - val_loss: 0.2815 - val_accuracy: 0.9000\n",
            "Epoch 87/100\n",
            "29/29 [==============================] - 0s 3ms/step - loss: 0.0110 - accuracy: 1.0000 - val_loss: 0.2852 - val_accuracy: 0.9050\n",
            "Epoch 88/100\n",
            "29/29 [==============================] - 0s 3ms/step - loss: 0.0109 - accuracy: 1.0000 - val_loss: 0.2797 - val_accuracy: 0.9000\n",
            "Epoch 89/100\n",
            "29/29 [==============================] - 0s 3ms/step - loss: 0.0105 - accuracy: 1.0000 - val_loss: 0.2863 - val_accuracy: 0.9050\n",
            "Epoch 90/100\n",
            "29/29 [==============================] - 0s 3ms/step - loss: 0.0138 - accuracy: 0.9989 - val_loss: 0.2797 - val_accuracy: 0.9050\n",
            "Epoch 91/100\n",
            "29/29 [==============================] - 0s 3ms/step - loss: 0.0122 - accuracy: 1.0000 - val_loss: 0.2808 - val_accuracy: 0.9100\n",
            "Epoch 92/100\n",
            "29/29 [==============================] - 0s 3ms/step - loss: 0.0104 - accuracy: 1.0000 - val_loss: 0.2821 - val_accuracy: 0.9050\n",
            "Epoch 93/100\n",
            "29/29 [==============================] - 0s 3ms/step - loss: 0.0102 - accuracy: 1.0000 - val_loss: 0.2804 - val_accuracy: 0.9050\n",
            "Epoch 94/100\n",
            "29/29 [==============================] - 0s 3ms/step - loss: 0.0101 - accuracy: 1.0000 - val_loss: 0.2882 - val_accuracy: 0.9050\n",
            "Epoch 95/100\n",
            "29/29 [==============================] - 0s 3ms/step - loss: 0.0096 - accuracy: 1.0000 - val_loss: 0.2901 - val_accuracy: 0.9000\n",
            "Epoch 96/100\n",
            "29/29 [==============================] - 0s 3ms/step - loss: 0.0094 - accuracy: 1.0000 - val_loss: 0.2931 - val_accuracy: 0.9000\n",
            "Epoch 97/100\n",
            "29/29 [==============================] - 0s 3ms/step - loss: 0.0093 - accuracy: 1.0000 - val_loss: 0.2923 - val_accuracy: 0.9050\n",
            "Epoch 98/100\n",
            "29/29 [==============================] - 0s 3ms/step - loss: 0.0095 - accuracy: 1.0000 - val_loss: 0.2945 - val_accuracy: 0.9050\n",
            "Epoch 99/100\n",
            "29/29 [==============================] - 0s 3ms/step - loss: 0.0090 - accuracy: 1.0000 - val_loss: 0.2924 - val_accuracy: 0.9050\n",
            "Epoch 100/100\n",
            "29/29 [==============================] - 0s 3ms/step - loss: 0.0089 - accuracy: 1.0000 - val_loss: 0.2921 - val_accuracy: 0.9050\n"
          ],
          "name": "stdout"
        }
      ]
    },
    {
      "cell_type": "markdown",
      "metadata": {
        "id": "5skzEuYk0i8i"
      },
      "source": [
        "As we could see in pervious figure that our model contained validation accuracy also\n",
        "\n",
        "Now lets visualise the validation loss and traing loss and validation accuacry and trainning accuracy to actuall obserb,  does our model over fitting"
      ]
    },
    {
      "cell_type": "code",
      "metadata": {
        "colab": {
          "base_uri": "https://localhost:8080/",
          "height": 295
        },
        "id": "RONZEVt50ilm",
        "outputId": "37adebda-7839-440a-fbfc-6be799c2aed7"
      },
      "source": [
        "import matplotlib.pyplot as plt\n",
        "\n",
        "\n",
        "plt.plot(trained2.history['accuracy'],color='blue')\n",
        "plt.plot(trained2.history['val_accuracy'],color='pink')\n",
        "plt.title('Model accuracy')\n",
        "plt.ylabel('Accuracy')\n",
        "plt.xlabel('Epoch')\n",
        "plt.legend(['Train', 'Test'], loc='upper left')\n",
        "plt.show()\n",
        "\n"
      ],
      "execution_count": 45,
      "outputs": [
        {
          "output_type": "display_data",
          "data": {
            "image/png": "[encoded data removed]",
            "text/plain": [
              "<Figure size 432x288 with 1 Axes>"
            ]
          },
          "metadata": {
            "tags": [],
            "needs_background": "light"
          }
        }
      ]
    },
    {
      "cell_type": "code",
      "metadata": {
        "colab": {
          "base_uri": "https://localhost:8080/",
          "height": 295
        },
        "id": "MbN9PfSj5P4x",
        "outputId": "ae6d4440-81f6-461d-cf8a-dbbd3497431e"
      },
      "source": [
        "\n",
        "\n",
        "plt.plot(trained2.history['loss'],color='green') \n",
        "plt.plot(trained2.history['val_loss'],color='red') \n",
        "plt.title('Model loss') \n",
        "plt.ylabel('Loss') \n",
        "plt.xlabel('Epoch') \n",
        "plt.legend(['Train', 'Test'], loc='upper left') \n",
        "plt.show()"
      ],
      "execution_count": 46,
      "outputs": [
        {
          "output_type": "display_data",
          "data": {
            "image/png": "[encoded data removed]",
            "text/plain": [
              "<Figure size 432x288 with 1 Axes>"
            ]
          },
          "metadata": {
            "tags": [],
            "needs_background": "light"
          }
        }
      ]
    },
    {
      "cell_type": "code",
      "metadata": {
        "colab": {
          "base_uri": "https://localhost:8080/"
        },
        "id": "3PCHqLsB2R6m",
        "outputId": "3a6b66cd-6dcc-4cf7-ff1e-23e5d57b30c0"
      },
      "source": [
        "trained2.history"
      ],
      "execution_count": 38,
      "outputs": [
        {
          "output_type": "execute_result",
          "data": {
            "text/plain": [
              "{'accuracy': [0.9927777647972107,\n",
              "  0.9933333396911621,\n",
              "  0.9933333396911621,\n",
              "  0.9933333396911621,\n",
              "  0.9950000047683716,\n",
              "  0.9944444298744202,\n",
              "  0.9950000047683716,\n",
              "  0.9938889145851135,\n",
              "  0.9961110949516296,\n",
              "  0.9927777647972107,\n",
              "  0.9950000047683716,\n",
              "  0.9961110949516296,\n",
              "  0.9944444298744202,\n",
              "  0.9961110949516296,\n",
              "  0.9961110949516296,\n",
              "  0.9944444298744202,\n",
              "  0.9961110949516296,\n",
              "  0.996666669845581,\n",
              "  0.9972222447395325,\n",
              "  0.9972222447395325,\n",
              "  0.9972222447395325,\n",
              "  0.995555579662323,\n",
              "  0.9977777600288391,\n",
              "  0.9977777600288391,\n",
              "  0.9961110949516296,\n",
              "  0.9983333349227905,\n",
              "  0.996666669845581,\n",
              "  0.9972222447395325,\n",
              "  0.9977777600288391,\n",
              "  0.9983333349227905,\n",
              "  0.9988889098167419,\n",
              "  0.9983333349227905,\n",
              "  0.9983333349227905,\n",
              "  0.9977777600288391,\n",
              "  0.9988889098167419,\n",
              "  0.9983333349227905,\n",
              "  0.9977777600288391,\n",
              "  0.9983333349227905,\n",
              "  0.9983333349227905,\n",
              "  0.9988889098167419,\n",
              "  0.9988889098167419,\n",
              "  0.9994444251060486,\n",
              "  0.9994444251060486,\n",
              "  0.9994444251060486,\n",
              "  0.9994444251060486,\n",
              "  0.9988889098167419,\n",
              "  0.9988889098167419,\n",
              "  0.9988889098167419,\n",
              "  0.9988889098167419,\n",
              "  0.9988889098167419,\n",
              "  0.9994444251060486,\n",
              "  1.0,\n",
              "  0.9994444251060486,\n",
              "  0.9988889098167419,\n",
              "  1.0,\n",
              "  0.9983333349227905,\n",
              "  0.9994444251060486,\n",
              "  1.0,\n",
              "  0.9994444251060486,\n",
              "  0.9994444251060486,\n",
              "  0.9994444251060486,\n",
              "  0.9994444251060486,\n",
              "  1.0,\n",
              "  1.0,\n",
              "  1.0,\n",
              "  0.9994444251060486,\n",
              "  1.0,\n",
              "  1.0,\n",
              "  1.0,\n",
              "  1.0,\n",
              "  1.0,\n",
              "  1.0,\n",
              "  1.0,\n",
              "  0.9994444251060486,\n",
              "  1.0,\n",
              "  1.0,\n",
              "  1.0,\n",
              "  1.0,\n",
              "  1.0,\n",
              "  1.0,\n",
              "  1.0,\n",
              "  1.0,\n",
              "  1.0,\n",
              "  1.0,\n",
              "  1.0,\n",
              "  1.0,\n",
              "  1.0,\n",
              "  1.0,\n",
              "  1.0,\n",
              "  0.9988889098167419,\n",
              "  1.0,\n",
              "  1.0,\n",
              "  1.0,\n",
              "  1.0,\n",
              "  1.0,\n",
              "  1.0,\n",
              "  1.0,\n",
              "  1.0,\n",
              "  1.0,\n",
              "  1.0],\n",
              " 'loss': [0.044583167880773544,\n",
              "  0.04351048544049263,\n",
              "  0.04319581389427185,\n",
              "  0.0425843708217144,\n",
              "  0.04160597175359726,\n",
              "  0.04114964231848717,\n",
              "  0.040626440197229385,\n",
              "  0.04026474803686142,\n",
              "  0.038816142827272415,\n",
              "  0.04044785350561142,\n",
              "  0.03847881779074669,\n",
              "  0.03687505051493645,\n",
              "  0.03640617057681084,\n",
              "  0.03610522300004959,\n",
              "  0.035124272108078,\n",
              "  0.03486456349492073,\n",
              "  0.03422036021947861,\n",
              "  0.03398055210709572,\n",
              "  0.032814186066389084,\n",
              "  0.03252185136079788,\n",
              "  0.03190779685974121,\n",
              "  0.0310103390365839,\n",
              "  0.030097072944045067,\n",
              "  0.030298614874482155,\n",
              "  0.030393339693546295,\n",
              "  0.028534498065710068,\n",
              "  0.028356917202472687,\n",
              "  0.02831861935555935,\n",
              "  0.027959086000919342,\n",
              "  0.02799626626074314,\n",
              "  0.027667228132486343,\n",
              "  0.026447603479027748,\n",
              "  0.02642088010907173,\n",
              "  0.02603231370449066,\n",
              "  0.02535420097410679,\n",
              "  0.025851890444755554,\n",
              "  0.0245350394397974,\n",
              "  0.02371094562113285,\n",
              "  0.023256754502654076,\n",
              "  0.023860279470682144,\n",
              "  0.022463833913207054,\n",
              "  0.022156665101647377,\n",
              "  0.021869484335184097,\n",
              "  0.021883146837353706,\n",
              "  0.020666195079684258,\n",
              "  0.020955249667167664,\n",
              "  0.02023659460246563,\n",
              "  0.02176818810403347,\n",
              "  0.020897412672638893,\n",
              "  0.02093532122671604,\n",
              "  0.019347572699189186,\n",
              "  0.0190327949821949,\n",
              "  0.019603149965405464,\n",
              "  0.018648164346814156,\n",
              "  0.018112940713763237,\n",
              "  0.019380295649170876,\n",
              "  0.01847687177360058,\n",
              "  0.017391817644238472,\n",
              "  0.017194963991642,\n",
              "  0.016986345872282982,\n",
              "  0.016753606498241425,\n",
              "  0.01725083403289318,\n",
              "  0.01606537029147148,\n",
              "  0.015681937336921692,\n",
              "  0.015755703672766685,\n",
              "  0.01516342256218195,\n",
              "  0.01507689617574215,\n",
              "  0.014958303421735764,\n",
              "  0.014822777360677719,\n",
              "  0.014527096413075924,\n",
              "  0.014407613314688206,\n",
              "  0.01438122894614935,\n",
              "  0.013917533680796623,\n",
              "  0.014724005945026875,\n",
              "  0.013534322381019592,\n",
              "  0.01318258699029684,\n",
              "  0.013126876205205917,\n",
              "  0.012828771956264973,\n",
              "  0.012752779759466648,\n",
              "  0.013306701555848122,\n",
              "  0.012544862926006317,\n",
              "  0.012280830182135105,\n",
              "  0.01223148126155138,\n",
              "  0.011508084833621979,\n",
              "  0.011324482969939709,\n",
              "  0.01098058931529522,\n",
              "  0.0109662851318717,\n",
              "  0.010878773406147957,\n",
              "  0.010518945753574371,\n",
              "  0.013798306696116924,\n",
              "  0.012185565195977688,\n",
              "  0.010405666194856167,\n",
              "  0.010150414891541004,\n",
              "  0.010064360685646534,\n",
              "  0.009584632702171803,\n",
              "  0.009417632594704628,\n",
              "  0.009275992400944233,\n",
              "  0.009489144198596478,\n",
              "  0.008983616717159748,\n",
              "  0.008938048034906387],\n",
              " 'val_accuracy': [0.9200000166893005,\n",
              "  0.9150000214576721,\n",
              "  0.9200000166893005,\n",
              "  0.9200000166893005,\n",
              "  0.9200000166893005,\n",
              "  0.9200000166893005,\n",
              "  0.9150000214576721,\n",
              "  0.9150000214576721,\n",
              "  0.9150000214576721,\n",
              "  0.9200000166893005,\n",
              "  0.9150000214576721,\n",
              "  0.9200000166893005,\n",
              "  0.9200000166893005,\n",
              "  0.9200000166893005,\n",
              "  0.9150000214576721,\n",
              "  0.9100000262260437,\n",
              "  0.9200000166893005,\n",
              "  0.9200000166893005,\n",
              "  0.9200000166893005,\n",
              "  0.9200000166893005,\n",
              "  0.9200000166893005,\n",
              "  0.9100000262260437,\n",
              "  0.925000011920929,\n",
              "  0.9150000214576721,\n",
              "  0.9150000214576721,\n",
              "  0.9200000166893005,\n",
              "  0.9200000166893005,\n",
              "  0.9100000262260437,\n",
              "  0.9100000262260437,\n",
              "  0.9150000214576721,\n",
              "  0.9150000214576721,\n",
              "  0.9150000214576721,\n",
              "  0.9150000214576721,\n",
              "  0.9150000214576721,\n",
              "  0.9150000214576721,\n",
              "  0.9150000214576721,\n",
              "  0.9100000262260437,\n",
              "  0.9100000262260437,\n",
              "  0.9150000214576721,\n",
              "  0.9200000166893005,\n",
              "  0.9150000214576721,\n",
              "  0.9100000262260437,\n",
              "  0.9150000214576721,\n",
              "  0.9200000166893005,\n",
              "  0.9150000214576721,\n",
              "  0.9150000214576721,\n",
              "  0.9150000214576721,\n",
              "  0.925000011920929,\n",
              "  0.9100000262260437,\n",
              "  0.9150000214576721,\n",
              "  0.9100000262260437,\n",
              "  0.9150000214576721,\n",
              "  0.9150000214576721,\n",
              "  0.9100000262260437,\n",
              "  0.9150000214576721,\n",
              "  0.9049999713897705,\n",
              "  0.9049999713897705,\n",
              "  0.9100000262260437,\n",
              "  0.9049999713897705,\n",
              "  0.9049999713897705,\n",
              "  0.9049999713897705,\n",
              "  0.9100000262260437,\n",
              "  0.9100000262260437,\n",
              "  0.9049999713897705,\n",
              "  0.9150000214576721,\n",
              "  0.9100000262260437,\n",
              "  0.9150000214576721,\n",
              "  0.9100000262260437,\n",
              "  0.9100000262260437,\n",
              "  0.9100000262260437,\n",
              "  0.9049999713897705,\n",
              "  0.9100000262260437,\n",
              "  0.9100000262260437,\n",
              "  0.9150000214576721,\n",
              "  0.8999999761581421,\n",
              "  0.9100000262260437,\n",
              "  0.9100000262260437,\n",
              "  0.9049999713897705,\n",
              "  0.9049999713897705,\n",
              "  0.8999999761581421,\n",
              "  0.9049999713897705,\n",
              "  0.9049999713897705,\n",
              "  0.9049999713897705,\n",
              "  0.8999999761581421,\n",
              "  0.9049999713897705,\n",
              "  0.8999999761581421,\n",
              "  0.9049999713897705,\n",
              "  0.8999999761581421,\n",
              "  0.9049999713897705,\n",
              "  0.9049999713897705,\n",
              "  0.9100000262260437,\n",
              "  0.9049999713897705,\n",
              "  0.9049999713897705,\n",
              "  0.9049999713897705,\n",
              "  0.8999999761581421,\n",
              "  0.8999999761581421,\n",
              "  0.9049999713897705,\n",
              "  0.9049999713897705,\n",
              "  0.9049999713897705,\n",
              "  0.9049999713897705],\n",
              " 'val_loss': [0.2069268822669983,\n",
              "  0.20405402779579163,\n",
              "  0.20354010164737701,\n",
              "  0.2066873013973236,\n",
              "  0.2068861424922943,\n",
              "  0.2059350609779358,\n",
              "  0.20313070714473724,\n",
              "  0.2042827606201172,\n",
              "  0.20780698955059052,\n",
              "  0.20866258442401886,\n",
              "  0.2054581195116043,\n",
              "  0.211586132645607,\n",
              "  0.20703758299350739,\n",
              "  0.20933197438716888,\n",
              "  0.2095758318901062,\n",
              "  0.2116062343120575,\n",
              "  0.20750440657138824,\n",
              "  0.20780132710933685,\n",
              "  0.21402481198310852,\n",
              "  0.2092342972755432,\n",
              "  0.21421167254447937,\n",
              "  0.21079149842262268,\n",
              "  0.21212686598300934,\n",
              "  0.21475347876548767,\n",
              "  0.2129688411951065,\n",
              "  0.2208678126335144,\n",
              "  0.21654018759727478,\n",
              "  0.21949167549610138,\n",
              "  0.21266989409923553,\n",
              "  0.22183546423912048,\n",
              "  0.22684593498706818,\n",
              "  0.21962326765060425,\n",
              "  0.21476627886295319,\n",
              "  0.22389569878578186,\n",
              "  0.22937725484371185,\n",
              "  0.22961236536502838,\n",
              "  0.22274474799633026,\n",
              "  0.22689232230186462,\n",
              "  0.2265346348285675,\n",
              "  0.23465771973133087,\n",
              "  0.22833825647830963,\n",
              "  0.23603492975234985,\n",
              "  0.23865722119808197,\n",
              "  0.23331041634082794,\n",
              "  0.2344827502965927,\n",
              "  0.23357699811458588,\n",
              "  0.23552678525447845,\n",
              "  0.23588703572750092,\n",
              "  0.24560074508190155,\n",
              "  0.24593788385391235,\n",
              "  0.23540621995925903,\n",
              "  0.24700677394866943,\n",
              "  0.2531634569168091,\n",
              "  0.2386433631181717,\n",
              "  0.25133734941482544,\n",
              "  0.23775789141654968,\n",
              "  0.24702195823192596,\n",
              "  0.2546870708465576,\n",
              "  0.2509061098098755,\n",
              "  0.2506566047668457,\n",
              "  0.2496974766254425,\n",
              "  0.25544366240501404,\n",
              "  0.2549450397491455,\n",
              "  0.25468704104423523,\n",
              "  0.25557711720466614,\n",
              "  0.2576363682746887,\n",
              "  0.2591261565685272,\n",
              "  0.261322021484375,\n",
              "  0.26222318410873413,\n",
              "  0.2588040232658386,\n",
              "  0.2661515772342682,\n",
              "  0.2636539340019226,\n",
              "  0.26984870433807373,\n",
              "  0.2618649899959564,\n",
              "  0.26841267943382263,\n",
              "  0.26751482486724854,\n",
              "  0.2681836783885956,\n",
              "  0.2758668065071106,\n",
              "  0.26507917046546936,\n",
              "  0.2707577049732208,\n",
              "  0.2659885585308075,\n",
              "  0.27202823758125305,\n",
              "  0.26965340971946716,\n",
              "  0.27847015857696533,\n",
              "  0.2752951383590698,\n",
              "  0.28149545192718506,\n",
              "  0.28516921401023865,\n",
              "  0.2797156274318695,\n",
              "  0.28633126616477966,\n",
              "  0.27970513701438904,\n",
              "  0.2808304727077484,\n",
              "  0.28213417530059814,\n",
              "  0.2803683578968048,\n",
              "  0.28819209337234497,\n",
              "  0.2900746464729309,\n",
              "  0.293091356754303,\n",
              "  0.2923097312450409,\n",
              "  0.2945450246334076,\n",
              "  0.2923961579799652,\n",
              "  0.29206931591033936]}"
            ]
          },
          "metadata": {
            "tags": []
          },
          "execution_count": 38
        }
      ]
    }
  ]
}